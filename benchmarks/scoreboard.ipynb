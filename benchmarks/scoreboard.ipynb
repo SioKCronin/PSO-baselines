{
 "cells": [
  {
   "cell_type": "markdown",
   "metadata": {},
   "source": [
    "# Scoreboard"
   ]
  },
  {
   "cell_type": "code",
   "execution_count": 23,
   "metadata": {},
   "outputs": [],
   "source": [
    "import os\n",
    "import pandas as pd\n",
    "\n",
    "f = max([d for d in os.listdir(\"csvfiles/\")])\n",
    "data = pd.read_csv(\"csvfiles/\" + f)"
   ]
  },
  {
   "cell_type": "code",
   "execution_count": 24,
   "metadata": {},
   "outputs": [
    {
     "data": {
      "text/html": [
       "<div>\n",
       "<style scoped>\n",
       "    .dataframe tbody tr th:only-of-type {\n",
       "        vertical-align: middle;\n",
       "    }\n",
       "\n",
       "    .dataframe tbody tr th {\n",
       "        vertical-align: top;\n",
       "    }\n",
       "\n",
       "    .dataframe thead th {\n",
       "        text-align: right;\n",
       "    }\n",
       "</style>\n",
       "<table border=\"1\" class=\"dataframe\">\n",
       "  <thead>\n",
       "    <tr style=\"text-align: right;\">\n",
       "      <th></th>\n",
       "      <th>algo</th>\n",
       "      <th>function</th>\n",
       "      <th>avg_cost</th>\n",
       "      <th>avg_time</th>\n",
       "    </tr>\n",
       "  </thead>\n",
       "  <tbody>\n",
       "    <tr>\n",
       "      <th>0</th>\n",
       "      <td>Swarm</td>\n",
       "      <td>sphere</td>\n",
       "      <td>0.106129</td>\n",
       "      <td>1.243941</td>\n",
       "    </tr>\n",
       "    <tr>\n",
       "      <th>1</th>\n",
       "      <td>Swarm</td>\n",
       "      <td>ackley</td>\n",
       "      <td>9.078588</td>\n",
       "      <td>2.017482</td>\n",
       "    </tr>\n",
       "    <tr>\n",
       "      <th>2</th>\n",
       "      <td>Swarm</td>\n",
       "      <td>griewank</td>\n",
       "      <td>1.235058</td>\n",
       "      <td>2.257634</td>\n",
       "    </tr>\n",
       "    <tr>\n",
       "      <th>3</th>\n",
       "      <td>Swarm</td>\n",
       "      <td>rastrigin</td>\n",
       "      <td>2.667294</td>\n",
       "      <td>1.458357</td>\n",
       "    </tr>\n",
       "    <tr>\n",
       "      <th>4</th>\n",
       "      <td>Swarm</td>\n",
       "      <td>weierstrass</td>\n",
       "      <td>0.576388</td>\n",
       "      <td>9.118784</td>\n",
       "    </tr>\n",
       "  </tbody>\n",
       "</table>\n",
       "</div>"
      ],
      "text/plain": [
       "    algo     function  avg_cost  avg_time\n",
       "0  Swarm       sphere  0.106129  1.243941\n",
       "1  Swarm       ackley  9.078588  2.017482\n",
       "2  Swarm     griewank  1.235058  2.257634\n",
       "3  Swarm    rastrigin  2.667294  1.458357\n",
       "4  Swarm  weierstrass  0.576388  9.118784"
      ]
     },
     "execution_count": 24,
     "metadata": {},
     "output_type": "execute_result"
    }
   ],
   "source": [
    "data"
   ]
  },
  {
   "cell_type": "code",
   "execution_count": null,
   "metadata": {},
   "outputs": [],
   "source": []
  }
 ],
 "metadata": {
  "kernelspec": {
   "display_name": "Python 3",
   "language": "python",
   "name": "python3"
  },
  "language_info": {
   "codemirror_mode": {
    "name": "ipython",
    "version": 3
   },
   "file_extension": ".py",
   "mimetype": "text/x-python",
   "name": "python",
   "nbconvert_exporter": "python",
   "pygments_lexer": "ipython3",
   "version": "3.6.5"
  }
 },
 "nbformat": 4,
 "nbformat_minor": 2
}
